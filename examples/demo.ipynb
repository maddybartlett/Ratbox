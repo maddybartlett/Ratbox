{
 "cells": [
  {
   "cell_type": "code",
   "execution_count": 1,
   "id": "37cd6e47",
   "metadata": {},
   "outputs": [
    {
     "name": "stderr",
     "output_type": "stream",
     "text": [
      "C:\\Users\\maddy\\anaconda3\\lib\\site-packages\\gymnasium\\envs\\registration.py:498: UserWarning: \u001b[33mWARN: Overriding environment GymV26Environment-v0 already in registry.\u001b[0m\n",
      "  logger.warn(f\"Overriding environment {new_spec.id} already in registry.\")\n"
     ]
    }
   ],
   "source": [
    "import sys\n",
    "sys.path.append('C:\\\\Users\\\\maddy\\\\OneDrive - University of Waterloo\\\\Deliverables\\\\Ratbox')\n",
    "\n",
    "import ratbox\n",
    "import gymnasium as gym\n",
    "\n",
    "import matplotlib.pyplot as plt"
   ]
  },
  {
   "cell_type": "markdown",
   "id": "fe078e26",
   "metadata": {},
   "source": [
    "Lists of actions which will get the agent to the goal, so long as there are no obstacles in the environment"
   ]
  },
  {
   "cell_type": "code",
   "execution_count": 2,
   "id": "e24391c6",
   "metadata": {},
   "outputs": [],
   "source": [
    "action_dict = {\"discrete\": [[0,0,1],[0,0,1],[0,0,1],[0,0,1],[0,0,1],[1,0,0],[0,0,1],[0,0,1],[0,0,1],[0,0,1],[0,0,1]],\n",
    "              \"compass\": [[-2,4,4,-2],[-2,4,4,-2],[-2,4,4,-2],[-2,4,4,-2],[-2,4,4,-2],[-2,4,4,-2],[-2,4,4,-2],\n",
    "                          [-2,4,4,-2],[-2,4,4,-2],[-2,4,4,-2]],\n",
    "               \"ego\": [[0.5,0,0.5,0],[10,0,0,0],[10,0,0,0],[10,0,0,0],[10,0,0,0],[10,0,0,0],[10,0,0,0],[10,0,0,0]],\n",
    "               \"unicycle\": [[1,-0.9],[1,0],[1,0],[1,0],[1,0],[1,0],[1,0],[1,0]],\n",
    "               \"skidsteer\": [[1,-1],[1,-1],[1,-1],[1,-1],[1,-1],[1,-1],[1,-1],[1,-1],[1,-1],[1,-1],[1,-1],\n",
    "                            [1,-1],[1,-1],[1,-1],[1,-1],[1,-1],[1,-1],[1,-1],[1,-1],[1,-1],[1,-1],[1,-1],\n",
    "                            [1,-1],[1,-1],[1,-1],[1,-1],[1,-1],[1,-1],[1,-1],[1,-1],[1,-1],[1,-1],[1,-1],\n",
    "                            [1,-1],[1,-1],[1,-1],[1,-1],[1,-1],[1,-1],[1,-1],[1,-1],[1,-1],[1,-1],[1,-1],\n",
    "                            [1,-1],[1,-1],[1,-1],[1,-1],[1,-1],[1,-1],[1,-1],[1,-1],[1,-1],[1,-1],[1,-1],\n",
    "                            [1,1],[1,1],[1,1],[1,1],[1,1],[1,1],[1,1]],\n",
    "              }"
   ]
  },
  {
   "cell_type": "markdown",
   "id": "2b4e9d64",
   "metadata": {},
   "source": [
    "Set the steering model and corresponding list of actions"
   ]
  },
  {
   "cell_type": "code",
   "execution_count": 3,
   "id": "d207cd1a",
   "metadata": {},
   "outputs": [],
   "source": [
    "steering = \"compass\" ## discrete, compass, ego, unicycle, skidsteer\n",
    "\n",
    "actions = action_dict[steering]"
   ]
  },
  {
   "cell_type": "markdown",
   "id": "549cbcbb",
   "metadata": {},
   "source": [
    "Create the environment"
   ]
  },
  {
   "cell_type": "code",
   "execution_count": 4,
   "id": "bdeaff91",
   "metadata": {},
   "outputs": [],
   "source": [
    "env = gym.make(\"RatBox-wall-v0\", render_mode = \"rgb_array\", steering = steering)"
   ]
  },
  {
   "cell_type": "markdown",
   "id": "d79a64f9",
   "metadata": {},
   "source": [
    "Always reset the environment first. Plot the rgb array so we can see the rat moving around."
   ]
  },
  {
   "cell_type": "code",
   "execution_count": 5,
   "id": "e02bb808",
   "metadata": {},
   "outputs": [
    {
     "ename": "error",
     "evalue": "cannot convert without pygame.display initialized",
     "output_type": "error",
     "traceback": [
      "\u001b[1;31m---------------------------------------------------------------------------\u001b[0m",
      "\u001b[1;31merror\u001b[0m                                     Traceback (most recent call last)",
      "Input \u001b[1;32mIn [5]\u001b[0m, in \u001b[0;36m<cell line: 1>\u001b[1;34m()\u001b[0m\n\u001b[1;32m----> 1\u001b[0m \u001b[43menv\u001b[49m\u001b[38;5;241;43m.\u001b[39;49m\u001b[43mreset\u001b[49m\u001b[43m(\u001b[49m\u001b[43m)\u001b[49m\n\u001b[0;32m      2\u001b[0m plt\u001b[38;5;241m.\u001b[39mimshow(env\u001b[38;5;241m.\u001b[39mrender())\n\u001b[0;32m      3\u001b[0m plt\u001b[38;5;241m.\u001b[39mshow()\n",
      "File \u001b[1;32m~\\anaconda3\\lib\\site-packages\\gymnasium\\wrappers\\time_limit.py:68\u001b[0m, in \u001b[0;36mTimeLimit.reset\u001b[1;34m(self, **kwargs)\u001b[0m\n\u001b[0;32m     59\u001b[0m \u001b[38;5;124;03m\"\"\"Resets the environment with :param:`**kwargs` and sets the number of steps elapsed to zero.\u001b[39;00m\n\u001b[0;32m     60\u001b[0m \n\u001b[0;32m     61\u001b[0m \u001b[38;5;124;03mArgs:\u001b[39;00m\n\u001b[1;32m   (...)\u001b[0m\n\u001b[0;32m     65\u001b[0m \u001b[38;5;124;03m    The reset environment\u001b[39;00m\n\u001b[0;32m     66\u001b[0m \u001b[38;5;124;03m\"\"\"\u001b[39;00m\n\u001b[0;32m     67\u001b[0m \u001b[38;5;28mself\u001b[39m\u001b[38;5;241m.\u001b[39m_elapsed_steps \u001b[38;5;241m=\u001b[39m \u001b[38;5;241m0\u001b[39m\n\u001b[1;32m---> 68\u001b[0m \u001b[38;5;28;01mreturn\u001b[39;00m \u001b[38;5;28mself\u001b[39m\u001b[38;5;241m.\u001b[39menv\u001b[38;5;241m.\u001b[39mreset(\u001b[38;5;241m*\u001b[39m\u001b[38;5;241m*\u001b[39mkwargs)\n",
      "File \u001b[1;32m~\\anaconda3\\lib\\site-packages\\gymnasium\\wrappers\\order_enforcing.py:42\u001b[0m, in \u001b[0;36mOrderEnforcing.reset\u001b[1;34m(self, **kwargs)\u001b[0m\n\u001b[0;32m     40\u001b[0m \u001b[38;5;124;03m\"\"\"Resets the environment with `kwargs`.\"\"\"\u001b[39;00m\n\u001b[0;32m     41\u001b[0m \u001b[38;5;28mself\u001b[39m\u001b[38;5;241m.\u001b[39m_has_reset \u001b[38;5;241m=\u001b[39m \u001b[38;5;28;01mTrue\u001b[39;00m\n\u001b[1;32m---> 42\u001b[0m \u001b[38;5;28;01mreturn\u001b[39;00m \u001b[38;5;28mself\u001b[39m\u001b[38;5;241m.\u001b[39menv\u001b[38;5;241m.\u001b[39mreset(\u001b[38;5;241m*\u001b[39m\u001b[38;5;241m*\u001b[39mkwargs)\n",
      "File \u001b[1;32m~\\anaconda3\\lib\\site-packages\\gymnasium\\wrappers\\env_checker.py:45\u001b[0m, in \u001b[0;36mPassiveEnvChecker.reset\u001b[1;34m(self, **kwargs)\u001b[0m\n\u001b[0;32m     43\u001b[0m \u001b[38;5;28;01mif\u001b[39;00m \u001b[38;5;28mself\u001b[39m\u001b[38;5;241m.\u001b[39mchecked_reset \u001b[38;5;129;01mis\u001b[39;00m \u001b[38;5;28;01mFalse\u001b[39;00m:\n\u001b[0;32m     44\u001b[0m     \u001b[38;5;28mself\u001b[39m\u001b[38;5;241m.\u001b[39mchecked_reset \u001b[38;5;241m=\u001b[39m \u001b[38;5;28;01mTrue\u001b[39;00m\n\u001b[1;32m---> 45\u001b[0m     \u001b[38;5;28;01mreturn\u001b[39;00m env_reset_passive_checker(\u001b[38;5;28mself\u001b[39m\u001b[38;5;241m.\u001b[39menv, \u001b[38;5;241m*\u001b[39m\u001b[38;5;241m*\u001b[39mkwargs)\n\u001b[0;32m     46\u001b[0m \u001b[38;5;28;01melse\u001b[39;00m:\n\u001b[0;32m     47\u001b[0m     \u001b[38;5;28;01mreturn\u001b[39;00m \u001b[38;5;28mself\u001b[39m\u001b[38;5;241m.\u001b[39menv\u001b[38;5;241m.\u001b[39mreset(\u001b[38;5;241m*\u001b[39m\u001b[38;5;241m*\u001b[39mkwargs)\n",
      "File \u001b[1;32m~\\anaconda3\\lib\\site-packages\\gymnasium\\utils\\passive_env_checker.py:192\u001b[0m, in \u001b[0;36menv_reset_passive_checker\u001b[1;34m(env, **kwargs)\u001b[0m\n\u001b[0;32m    187\u001b[0m     logger\u001b[38;5;241m.\u001b[39mwarn(\n\u001b[0;32m    188\u001b[0m         \u001b[38;5;124m\"\u001b[39m\u001b[38;5;124mFuture gymnasium versions will require that `Env.reset` can be passed `options` to allow the environment initialisation to be passed additional information.\u001b[39m\u001b[38;5;124m\"\u001b[39m\n\u001b[0;32m    189\u001b[0m     )\n\u001b[0;32m    191\u001b[0m \u001b[38;5;66;03m# Checks the result of env.reset with kwargs\u001b[39;00m\n\u001b[1;32m--> 192\u001b[0m result \u001b[38;5;241m=\u001b[39m env\u001b[38;5;241m.\u001b[39mreset(\u001b[38;5;241m*\u001b[39m\u001b[38;5;241m*\u001b[39mkwargs)\n\u001b[0;32m    194\u001b[0m \u001b[38;5;28;01mif\u001b[39;00m \u001b[38;5;129;01mnot\u001b[39;00m \u001b[38;5;28misinstance\u001b[39m(result, \u001b[38;5;28mtuple\u001b[39m):\n\u001b[0;32m    195\u001b[0m     logger\u001b[38;5;241m.\u001b[39mwarn(\n\u001b[0;32m    196\u001b[0m         \u001b[38;5;124mf\u001b[39m\u001b[38;5;124m\"\u001b[39m\u001b[38;5;124mThe result returned by `env.reset()` was not a tuple of the form `(obs, info)`, where `obs` is a observation and `info` is a dictionary containing additional information. Actual type: `\u001b[39m\u001b[38;5;132;01m{\u001b[39;00m\u001b[38;5;28mtype\u001b[39m(result)\u001b[38;5;132;01m}\u001b[39;00m\u001b[38;5;124m`\u001b[39m\u001b[38;5;124m\"\u001b[39m\n\u001b[0;32m    197\u001b[0m     )\n",
      "File \u001b[1;32m~\\OneDrive - University of Waterloo\\Deliverables\\Ratbox\\ratbox\\ratbox_env.py:236\u001b[0m, in \u001b[0;36mRatBoxEnv.reset\u001b[1;34m(self, seed, options)\u001b[0m\n\u001b[0;32m    233\u001b[0m \u001b[38;5;28mself\u001b[39m\u001b[38;5;241m.\u001b[39mmax_rew \u001b[38;5;241m=\u001b[39m \u001b[38;5;241m1\u001b[39m\n\u001b[0;32m    235\u001b[0m \u001b[38;5;66;03m# Generate a new random grid at the start of each episode\u001b[39;00m\n\u001b[1;32m--> 236\u001b[0m \u001b[38;5;28;43mself\u001b[39;49m\u001b[38;5;241;43m.\u001b[39;49m\u001b[43m_gen_world\u001b[49m\u001b[43m(\u001b[49m\u001b[38;5;28;43mself\u001b[39;49m\u001b[38;5;241;43m.\u001b[39;49m\u001b[43mwidth\u001b[49m\u001b[43m,\u001b[49m\u001b[43m \u001b[49m\u001b[38;5;28;43mself\u001b[39;49m\u001b[38;5;241;43m.\u001b[39;49m\u001b[43mheight\u001b[49m\u001b[43m)\u001b[49m\n\u001b[0;32m    238\u001b[0m \u001b[38;5;66;03m# Step count since episode start\u001b[39;00m\n\u001b[0;32m    239\u001b[0m \u001b[38;5;28mself\u001b[39m\u001b[38;5;241m.\u001b[39mstep_count \u001b[38;5;241m=\u001b[39m \u001b[38;5;241m0\u001b[39m\n",
      "File \u001b[1;32m~\\OneDrive - University of Waterloo\\Deliverables\\Ratbox\\ratbox\\envs\\wall.py:25\u001b[0m, in \u001b[0;36mWallRoom._gen_world\u001b[1;34m(self, width, height)\u001b[0m\n\u001b[0;32m     22\u001b[0m \u001b[38;5;28mself\u001b[39m\u001b[38;5;241m.\u001b[39mworld \u001b[38;5;241m=\u001b[39m World(width, height)\n\u001b[0;32m     24\u001b[0m \u001b[38;5;66;03m## Place agent in the world\u001b[39;00m\n\u001b[1;32m---> 25\u001b[0m \u001b[38;5;28mself\u001b[39m\u001b[38;5;241m.\u001b[39magent \u001b[38;5;241m=\u001b[39m \u001b[43mAgent\u001b[49m\u001b[43m(\u001b[49m\u001b[38;5;28;43mself\u001b[39;49m\u001b[38;5;241;43m.\u001b[39;49m\u001b[43magent_pos\u001b[49m\u001b[43m,\u001b[49m\u001b[43m \u001b[49m\u001b[38;5;28;43mself\u001b[39;49m\u001b[38;5;241;43m.\u001b[39;49m\u001b[43magent_dir\u001b[49m\u001b[43m,\u001b[49m\u001b[43m \u001b[49m\u001b[38;5;28;43mself\u001b[39;49m\u001b[38;5;241;43m.\u001b[39;49m\u001b[43mspeed\u001b[49m\u001b[43m,\u001b[49m\u001b[43m \u001b[49m\u001b[38;5;28;43mself\u001b[39;49m\u001b[38;5;241;43m.\u001b[39;49m\u001b[43msteering\u001b[49m\u001b[43m,\u001b[49m\u001b[43m \u001b[49m\u001b[38;5;28;43mself\u001b[39;49m\u001b[38;5;241;43m.\u001b[39;49m\u001b[43mrotation\u001b[49m\u001b[43m)\u001b[49m\n\u001b[0;32m     26\u001b[0m \u001b[38;5;28mself\u001b[39m\u001b[38;5;241m.\u001b[39mworld\u001b[38;5;241m.\u001b[39madd_obj(\u001b[38;5;28mself\u001b[39m\u001b[38;5;241m.\u001b[39magent)\n\u001b[0;32m     28\u001b[0m \u001b[38;5;66;03m## Place goal in world\u001b[39;00m\n",
      "File \u001b[1;32m~\\OneDrive - University of Waterloo\\Deliverables\\Ratbox\\ratbox\\ratbox_env.py:126\u001b[0m, in \u001b[0;36mAgent.__init__\u001b[1;34m(self, position, facing, speed, steering, rotation, name)\u001b[0m\n\u001b[0;32m    122\u001b[0m \u001b[38;5;28mself\u001b[39m\u001b[38;5;241m.\u001b[39mtravel\u001b[38;5;241m.\u001b[39m_max_speed \u001b[38;5;241m=\u001b[39m speed \u001b[38;5;66;03m#max pixels per step\u001b[39;00m\n\u001b[0;32m    124\u001b[0m \u001b[38;5;28mself\u001b[39m\u001b[38;5;241m.\u001b[39mname \u001b[38;5;241m=\u001b[39m name\n\u001b[1;32m--> 126\u001b[0m \u001b[38;5;28mself\u001b[39m\u001b[38;5;241m.\u001b[39mimage \u001b[38;5;241m=\u001b[39m \u001b[43mload_sprite\u001b[49m\u001b[43m(\u001b[49m\u001b[38;5;28;43mself\u001b[39;49m\u001b[38;5;241;43m.\u001b[39;49m\u001b[43mname\u001b[49m\u001b[43m)\u001b[49m\n\u001b[0;32m    127\u001b[0m \u001b[38;5;28mself\u001b[39m\u001b[38;5;241m.\u001b[39mmask  \u001b[38;5;241m=\u001b[39m pygame\u001b[38;5;241m.\u001b[39mmask\u001b[38;5;241m.\u001b[39mfrom_surface(\u001b[38;5;28mself\u001b[39m\u001b[38;5;241m.\u001b[39mimage)\n",
      "File \u001b[1;32m~\\OneDrive - University of Waterloo\\Deliverables\\Ratbox\\ratbox\\utils\\loadSprite.py:14\u001b[0m, in \u001b[0;36mload_sprite\u001b[1;34m(name, with_alpha)\u001b[0m\n\u001b[0;32m     12\u001b[0m \u001b[38;5;66;03m## convert image to a format that better fits the screen\u001b[39;00m\n\u001b[0;32m     13\u001b[0m \u001b[38;5;28;01mif\u001b[39;00m with_alpha:\n\u001b[1;32m---> 14\u001b[0m     \u001b[38;5;28;01mreturn\u001b[39;00m \u001b[43mloaded_sprite\u001b[49m\u001b[38;5;241;43m.\u001b[39;49m\u001b[43mconvert_alpha\u001b[49m\u001b[43m(\u001b[49m\u001b[43m)\u001b[49m\n\u001b[0;32m     15\u001b[0m \u001b[38;5;28;01melse\u001b[39;00m:\n\u001b[0;32m     16\u001b[0m     \u001b[38;5;28;01mreturn\u001b[39;00m loaded_sprite\u001b[38;5;241m.\u001b[39mconvert()\n",
      "\u001b[1;31merror\u001b[0m: cannot convert without pygame.display initialized"
     ]
    }
   ],
   "source": [
    "env.reset()\n",
    "plt.imshow(env.render())\n",
    "plt.show()\n",
    "\n",
    "obsList = []\n",
    "for act in actions:\n",
    "    obs = env.step(act)\n",
    "    obsList.append(obs)\n",
    "    plt.imshow(env.render())\n",
    "    plt.show()"
   ]
  },
  {
   "cell_type": "markdown",
   "id": "5ec1546f",
   "metadata": {},
   "source": [
    "Let's have a look at the state observations on the final trial."
   ]
  },
  {
   "cell_type": "code",
   "execution_count": null,
   "id": "ef11c3d8",
   "metadata": {},
   "outputs": [],
   "source": [
    "obsList[-1]"
   ]
  },
  {
   "cell_type": "code",
   "execution_count": null,
   "id": "6d342f2d",
   "metadata": {},
   "outputs": [],
   "source": [
    "print(f'The rat reached location {obsList[-1][0][:2]} and is facing the direction {obsList[-1][0][2]} degrees from the x axis. The goal is at location {obsList[-1][0][3:]}.')\n",
    "\n",
    "if obsList[-1][2]:\n",
    "    print(f'The rat reached the goal and got a reward of {obsList[-1][1]}.')\n",
    "else:\n",
    "    print('The rat did not reach the goal.')"
   ]
  },
  {
   "cell_type": "code",
   "execution_count": null,
   "id": "7ae7feff",
   "metadata": {},
   "outputs": [],
   "source": []
  }
 ],
 "metadata": {
  "kernelspec": {
   "display_name": "Python 3 (ipykernel)",
   "language": "python",
   "name": "python3"
  },
  "language_info": {
   "codemirror_mode": {
    "name": "ipython",
    "version": 3
   },
   "file_extension": ".py",
   "mimetype": "text/x-python",
   "name": "python",
   "nbconvert_exporter": "python",
   "pygments_lexer": "ipython3",
   "version": "3.9.12"
  }
 },
 "nbformat": 4,
 "nbformat_minor": 5
}
